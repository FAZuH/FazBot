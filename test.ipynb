{
 "cells": [
  {
   "cell_type": "code",
   "execution_count": 9,
   "metadata": {},
   "outputs": [],
   "source": [
    "from datetime import datetime, timedelta\n",
    "from fazbot.db.fazbot import FazBotDatabase\n",
    "from fazbot.db.fazbot.model.banned_user import BannedUser\n",
    "\n",
    "import aiomysql\n",
    "\n",
    "banned_user = BannedUser(1, 'test', datetime.now(), datetime.now() + timedelta(days=1))\n"
   ]
  },
  {
   "cell_type": "code",
   "execution_count": 12,
   "metadata": {},
   "outputs": [],
   "source": [
    "async with aiomysql.connect(\n",
    "    user='test',\n",
    "    password='test',\n",
    "    db='test_fazbot'\n",
    ") as conn:\n",
    "    conn: aiomysql.Connection\n",
    "    async with conn.cursor() as cur:\n",
    "        cur: aiomysql.Cursor\n",
    "        await cur.execute(\n",
    "            f\"\"\"\n",
    "            INSERT INTO `banned_user` (`user_id`, `reason`, `from`, `until`)\n",
    "            VALUES (%s, %s, %s, %s)\n",
    "            \"\"\",\n",
    "            (banned_user.user_id, banned_user.reason, banned_user.from_, banned_user.until)\n",
    "        )"
   ]
  },
  {
   "cell_type": "code",
   "execution_count": 19,
   "metadata": {},
   "outputs": [
    {
     "data": {
      "text/plain": [
       "0"
      ]
     },
     "execution_count": 19,
     "metadata": {},
     "output_type": "execute_result"
    }
   ],
   "source": [
    "db = FazBotDatabase(\n",
    "    'test',\n",
    "    'test',\n",
    "    'test_fazbot',\n",
    "    3\n",
    ")\n",
    "\n",
    "\n",
    "await db._db.execute(\"TRUNCATE TABLE `banned_user`\")"
   ]
  },
  {
   "cell_type": "code",
   "execution_count": 31,
   "metadata": {},
   "outputs": [],
   "source": [
    "results = await db._db.fetch(\"SHOW TABLES\")\n",
    "table_names = []\n",
    "for result in results:\n",
    "    table_name = list(result.values())\n",
    "    table_names.extend(table_name)\n"
   ]
  },
  {
   "cell_type": "code",
   "execution_count": 32,
   "metadata": {},
   "outputs": [
    {
     "data": {
      "text/plain": [
       "['banned_user', 'test_table', 'whitelisted_guild']"
      ]
     },
     "execution_count": 32,
     "metadata": {},
     "output_type": "execute_result"
    }
   ],
   "source": [
    "table_names"
   ]
  },
  {
   "cell_type": "code",
   "execution_count": 16,
   "metadata": {},
   "outputs": [],
   "source": [
    "await db.banned_user_repository.insert(banned_user)"
   ]
  },
  {
   "cell_type": "code",
   "execution_count": 20,
   "metadata": {},
   "outputs": [
    {
     "data": {
      "text/plain": [
       "()"
      ]
     },
     "execution_count": 20,
     "metadata": {},
     "output_type": "execute_result"
    }
   ],
   "source": [
    "await db._db.fetch(\"SELECT * FROM `banned_user`\")"
   ]
  },
  {
   "cell_type": "code",
   "execution_count": 6,
   "metadata": {},
   "outputs": [
    {
     "data": {
      "text/plain": [
       "\"'2024-06-13 20:03:09.118192'\""
      ]
     },
     "execution_count": 6,
     "metadata": {},
     "output_type": "execute_result"
    }
   ],
   "source": [
    "def something(obj: datetime):\n",
    "    if obj.microsecond:\n",
    "        fmt = (\n",
    "            \"'{0.year:04}-{0.month:02}-{0.day:02}\"\n",
    "            + \" {0.hour:02}:{0.minute:02}:{0.second:02}.{0.microsecond:06}'\"\n",
    "        )\n",
    "    else:\n",
    "        fmt = \"'{0.year:04}-{0.month:02}-{0.day:02} {0.hour:02}:{0.minute:02}:{0.second:02}'\"\n",
    "    return fmt.format(obj)\n",
    "\n",
    "something(banned_user.from_)"
   ]
  },
  {
   "cell_type": "code",
   "execution_count": 7,
   "metadata": {},
   "outputs": [
    {
     "name": "stdout",
     "output_type": "stream",
     "text": [
      "BannedUser(user_id=1, reason='test', from_=datetime.datetime(2024, 6, 13, 20, 3, 9, 118192), until=datetime.datetime(2024, 6, 14, 20, 3, 9, 118199))\n"
     ]
    }
   ],
   "source": [
    "print(banned_user)"
   ]
  }
 ],
 "metadata": {
  "kernelspec": {
   "display_name": ".venv",
   "language": "python",
   "name": "python3"
  },
  "language_info": {
   "codemirror_mode": {
    "name": "ipython",
    "version": 3
   },
   "file_extension": ".py",
   "mimetype": "text/x-python",
   "name": "python",
   "nbconvert_exporter": "python",
   "pygments_lexer": "ipython3",
   "version": "3.12.3"
  }
 },
 "nbformat": 4,
 "nbformat_minor": 2
}
