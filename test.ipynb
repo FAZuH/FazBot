{
 "cells": [
  {
   "cell_type": "code",
   "execution_count": 5,
   "metadata": {},
   "outputs": [
    {
     "data": {
      "text/plain": [
       "[{'Tables_in_test_fazbot': 'banned_user'},\n",
       " {'Tables_in_test_fazbot': 'test_table'}]"
      ]
     },
     "execution_count": 5,
     "metadata": {},
     "output_type": "execute_result"
    }
   ],
   "source": [
    "from fazbot.db.fazbot import FazBotDatabase\n",
    "\n",
    "db = FazBotDatabase(\n",
    "    user='test',\n",
    "    password='test',\n",
    "    database='test_fazbot',\n",
    "    retries=3\n",
    ")\n",
    "\n",
    "await db.create_all_tables()\n",
    "\n",
    "await db.banned_user_repository.create_table()\n",
    "tables = await db._db.fetch(\n",
    "    'SHOW TABLES;'\n",
    ")\n",
    "tables"
   ]
  }
 ],
 "metadata": {
  "kernelspec": {
   "display_name": ".venv",
   "language": "python",
   "name": "python3"
  },
  "language_info": {
   "codemirror_mode": {
    "name": "ipython",
    "version": 3
   },
   "file_extension": ".py",
   "mimetype": "text/x-python",
   "name": "python",
   "nbconvert_exporter": "python",
   "pygments_lexer": "ipython3",
   "version": "3.12.3"
  }
 },
 "nbformat": 4,
 "nbformat_minor": 2
}
