{
 "cells": [
  {
   "cell_type": "code",
   "execution_count": 2,
   "metadata": {},
   "outputs": [],
   "source": [
    "from datetime import datetime\n",
    "from typing import Optional\n",
    "\n",
    "import sqlalchemy as sa\n",
    "from sqlalchemy.orm import DeclarativeBase\n",
    "from sqlalchemy.orm import Mapped, mapped_column\n",
    "from sqlalchemy.ext.asyncio import AsyncAttrs\n",
    "\n",
    "from fazbot.db import BaseDatabase\n",
    "\n",
    "\n",
    "class Base(DeclarativeBase): ...\n"
   ]
  },
  {
   "cell_type": "code",
   "execution_count": null,
   "metadata": {},
   "outputs": [],
   "source": [
    "db = BaseDatabase(\n",
    "    'mariadb+asyncmy',\n",
    "    'test',\n",
    "    'test',\n",
    "    'localhost',\n",
    "    'test_fazbot'\n",
    ")"
   ]
  },
  {
   "cell_type": "code",
   "execution_count": 4,
   "metadata": {},
   "outputs": [],
   "source": [
    "class WhitelistedGuild(Base, AsyncAttrs):\n",
    "    __tablename__ = \"whitelisted_guild\"\n",
    "\n",
    "    guild_id: Mapped[int] = mapped_column(primary_key=True)\n",
    "    guild_name: Mapped[str] = mapped_column(sa.String(32))\n",
    "    from_: Mapped[datetime] = mapped_column(name=\"from\")\n",
    "    until: Mapped[Optional[datetime]] = mapped_column(default=None)"
   ]
  },
  {
   "cell_type": "code",
   "execution_count": null,
   "metadata": {},
   "outputs": [],
   "source": [
    "WhitelistedGuild.guild_id.primary_key"
   ]
  },
  {
   "cell_type": "code",
   "execution_count": 5,
   "metadata": {},
   "outputs": [
    {
     "name": "stdout",
     "output_type": "stream",
     "text": [
      "\n",
      "CREATE TABLE whitelisted_guild (\n",
      "\tguild_id INTEGER NOT NULL, \n",
      "\tguild_name VARCHAR(32) NOT NULL, \n",
      "\t\"from\" DATETIME NOT NULL, \n",
      "\tuntil DATETIME, \n",
      "\tPRIMARY KEY (guild_id)\n",
      ")\n",
      "\n",
      "\n"
     ]
    }
   ],
   "source": [
    "print(sa.schema.CreateTable(WhitelistedGuild.__table__))"
   ]
  },
  {
   "cell_type": "code",
   "execution_count": null,
   "metadata": {},
   "outputs": [],
   "source": [
    "pwr1 = WhitelistedGuild(\n",
    "    guild_id=921720674823839804,\n",
    "    guild_name=\"ao\",\n",
    "    from_=datetime.now(),\n",
    "    until=None,\n",
    ")\n",
    "\n",
    "pwr2 = WhitelistedGuild(\n",
    "    guild_id=921720674823839805,\n",
    "    guild_name=\"ab\",\n",
    "    from_=datetime.now(),\n",
    "    until=None,\n",
    ")\n",
    "\n",
    "\n",
    "async with db.enter_session() as session:\n",
    "    session.add_all([pwr1, pwr2])\n",
    "    await session.commit()"
   ]
  },
  {
   "cell_type": "code",
   "execution_count": null,
   "metadata": {},
   "outputs": [
    {
     "name": "stdout",
     "output_type": "stream",
     "text": [
      "[(921720674823839804, 'ao', datetime.datetime(2024, 6, 15, 23, 39, 40), None), (921720674823839805, 'ab', datetime.datetime(2024, 6, 15, 23, 39, 40), None)]\n"
     ]
    }
   ],
   "source": [
    "async with db.enter_connection() as conn:\n",
    "    cursor = await conn.execute(sa.text(\"SELECT * FROM whitelisted_guild\"))\n",
    "    results = cursor.all()\n",
    "    print(results)"
   ]
  },
  {
   "cell_type": "code",
   "execution_count": null,
   "metadata": {},
   "outputs": [],
   "source": [
    "async with db.enter_connection() as conn:\n",
    "    cursor = await conn.execute(sa.text(\"TRUNCATE whitelisted_guild\"))"
   ]
  }
 ],
 "metadata": {
  "kernelspec": {
   "display_name": ".venv",
   "language": "python",
   "name": "python3"
  },
  "language_info": {
   "codemirror_mode": {
    "name": "ipython",
    "version": 3
   },
   "file_extension": ".py",
   "mimetype": "text/x-python",
   "name": "python",
   "nbconvert_exporter": "python",
   "pygments_lexer": "ipython3",
   "version": "3.12.3"
  }
 },
 "nbformat": 4,
 "nbformat_minor": 2
}
